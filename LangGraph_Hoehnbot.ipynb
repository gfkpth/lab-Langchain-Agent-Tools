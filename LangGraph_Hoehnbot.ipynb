{
 "cells": [
  {
   "cell_type": "markdown",
   "id": "20ede2e1",
   "metadata": {},
   "source": [
    "# Overview\n",
    "\n",
    "This notebook aims to experiment with giving an agent access to two different databases (one sourced from my my personal website, one sourced from my published work, i.e. extracted from pdfs).\n",
    "\n",
    "*Currently incomplete.*"
   ]
  },
  {
   "cell_type": "code",
   "execution_count": 3,
   "id": "2532490e",
   "metadata": {},
   "outputs": [
    {
     "name": "stdout",
     "output_type": "stream",
     "text": [
      "Looking in indexes: https://pypi.org/simple, https://pypi.ngc.nvidia.com\n",
      "Requirement already satisfied: langchain[openai] in /home/georg/anaconda3/envs/nlp.venv/lib/python3.12/site-packages (0.3.25)\n",
      "Collecting langchain[openai]\n",
      "  Downloading langchain-0.3.26-py3-none-any.whl.metadata (7.8 kB)\n",
      "Collecting langchain-core<1.0.0,>=0.3.66 (from langchain[openai])\n",
      "  Downloading langchain_core-0.3.66-py3-none-any.whl.metadata (5.8 kB)\n",
      "Requirement already satisfied: langchain-text-splitters<1.0.0,>=0.3.8 in /home/georg/anaconda3/envs/nlp.venv/lib/python3.12/site-packages (from langchain[openai]) (0.3.8)\n",
      "Requirement already satisfied: langsmith>=0.1.17 in /home/georg/anaconda3/envs/nlp.venv/lib/python3.12/site-packages (from langchain[openai]) (0.3.45)\n",
      "Requirement already satisfied: pydantic<3.0.0,>=2.7.4 in /home/georg/anaconda3/envs/nlp.venv/lib/python3.12/site-packages (from langchain[openai]) (2.11.7)\n",
      "Requirement already satisfied: SQLAlchemy<3,>=1.4 in /home/georg/anaconda3/envs/nlp.venv/lib/python3.12/site-packages (from langchain[openai]) (2.0.41)\n",
      "Requirement already satisfied: requests<3,>=2 in /home/georg/anaconda3/envs/nlp.venv/lib/python3.12/site-packages (from langchain[openai]) (2.32.4)\n",
      "Requirement already satisfied: PyYAML>=5.3 in /home/georg/anaconda3/envs/nlp.venv/lib/python3.12/site-packages (from langchain[openai]) (6.0.2)\n",
      "Requirement already satisfied: langchain-openai in /home/georg/anaconda3/envs/nlp.venv/lib/python3.12/site-packages (from langchain[openai]) (0.3.24)\n",
      "Requirement already satisfied: tenacity!=8.4.0,<10.0.0,>=8.1.0 in /home/georg/anaconda3/envs/nlp.venv/lib/python3.12/site-packages (from langchain-core<1.0.0,>=0.3.66->langchain[openai]) (9.1.2)\n",
      "Requirement already satisfied: jsonpatch<2.0,>=1.33 in /home/georg/anaconda3/envs/nlp.venv/lib/python3.12/site-packages (from langchain-core<1.0.0,>=0.3.66->langchain[openai]) (1.33)\n",
      "Requirement already satisfied: packaging<25,>=23.2 in /home/georg/anaconda3/envs/nlp.venv/lib/python3.12/site-packages (from langchain-core<1.0.0,>=0.3.66->langchain[openai]) (24.2)\n",
      "Requirement already satisfied: typing-extensions>=4.7 in /home/georg/anaconda3/envs/nlp.venv/lib/python3.12/site-packages (from langchain-core<1.0.0,>=0.3.66->langchain[openai]) (4.14.0)\n",
      "Requirement already satisfied: jsonpointer>=1.9 in /home/georg/anaconda3/envs/nlp.venv/lib/python3.12/site-packages (from jsonpatch<2.0,>=1.33->langchain-core<1.0.0,>=0.3.66->langchain[openai]) (3.0.0)\n",
      "Requirement already satisfied: annotated-types>=0.6.0 in /home/georg/anaconda3/envs/nlp.venv/lib/python3.12/site-packages (from pydantic<3.0.0,>=2.7.4->langchain[openai]) (0.7.0)\n",
      "Requirement already satisfied: pydantic-core==2.33.2 in /home/georg/anaconda3/envs/nlp.venv/lib/python3.12/site-packages (from pydantic<3.0.0,>=2.7.4->langchain[openai]) (2.33.2)\n",
      "Requirement already satisfied: typing-inspection>=0.4.0 in /home/georg/anaconda3/envs/nlp.venv/lib/python3.12/site-packages (from pydantic<3.0.0,>=2.7.4->langchain[openai]) (0.4.1)\n",
      "Requirement already satisfied: charset_normalizer<4,>=2 in /home/georg/anaconda3/envs/nlp.venv/lib/python3.12/site-packages (from requests<3,>=2->langchain[openai]) (3.4.2)\n",
      "Requirement already satisfied: idna<4,>=2.5 in /home/georg/anaconda3/envs/nlp.venv/lib/python3.12/site-packages (from requests<3,>=2->langchain[openai]) (3.10)\n",
      "Requirement already satisfied: urllib3<3,>=1.21.1 in /home/georg/anaconda3/envs/nlp.venv/lib/python3.12/site-packages (from requests<3,>=2->langchain[openai]) (2.4.0)\n",
      "Requirement already satisfied: certifi>=2017.4.17 in /home/georg/anaconda3/envs/nlp.venv/lib/python3.12/site-packages (from requests<3,>=2->langchain[openai]) (2025.6.15)\n",
      "Requirement already satisfied: greenlet>=1 in /home/georg/anaconda3/envs/nlp.venv/lib/python3.12/site-packages (from SQLAlchemy<3,>=1.4->langchain[openai]) (3.2.3)\n",
      "Requirement already satisfied: httpx<1,>=0.23.0 in /home/georg/anaconda3/envs/nlp.venv/lib/python3.12/site-packages (from langsmith>=0.1.17->langchain[openai]) (0.28.1)\n",
      "Requirement already satisfied: orjson<4.0.0,>=3.9.14 in /home/georg/anaconda3/envs/nlp.venv/lib/python3.12/site-packages (from langsmith>=0.1.17->langchain[openai]) (3.10.18)\n",
      "Requirement already satisfied: requests-toolbelt<2.0.0,>=1.0.0 in /home/georg/anaconda3/envs/nlp.venv/lib/python3.12/site-packages (from langsmith>=0.1.17->langchain[openai]) (1.0.0)\n",
      "Requirement already satisfied: zstandard<0.24.0,>=0.23.0 in /home/georg/anaconda3/envs/nlp.venv/lib/python3.12/site-packages (from langsmith>=0.1.17->langchain[openai]) (0.23.0)\n",
      "Requirement already satisfied: anyio in /home/georg/anaconda3/envs/nlp.venv/lib/python3.12/site-packages (from httpx<1,>=0.23.0->langsmith>=0.1.17->langchain[openai]) (4.9.0)\n",
      "Requirement already satisfied: httpcore==1.* in /home/georg/anaconda3/envs/nlp.venv/lib/python3.12/site-packages (from httpx<1,>=0.23.0->langsmith>=0.1.17->langchain[openai]) (1.0.9)\n",
      "Requirement already satisfied: h11>=0.16 in /home/georg/anaconda3/envs/nlp.venv/lib/python3.12/site-packages (from httpcore==1.*->httpx<1,>=0.23.0->langsmith>=0.1.17->langchain[openai]) (0.16.0)\n",
      "Requirement already satisfied: sniffio>=1.1 in /home/georg/anaconda3/envs/nlp.venv/lib/python3.12/site-packages (from anyio->httpx<1,>=0.23.0->langsmith>=0.1.17->langchain[openai]) (1.3.1)\n",
      "Requirement already satisfied: openai<2.0.0,>=1.86.0 in /home/georg/anaconda3/envs/nlp.venv/lib/python3.12/site-packages (from langchain-openai->langchain[openai]) (1.88.0)\n",
      "Requirement already satisfied: tiktoken<1,>=0.7 in /home/georg/anaconda3/envs/nlp.venv/lib/python3.12/site-packages (from langchain-openai->langchain[openai]) (0.9.0)\n",
      "Requirement already satisfied: distro<2,>=1.7.0 in /home/georg/anaconda3/envs/nlp.venv/lib/python3.12/site-packages (from openai<2.0.0,>=1.86.0->langchain-openai->langchain[openai]) (1.9.0)\n",
      "Requirement already satisfied: jiter<1,>=0.4.0 in /home/georg/anaconda3/envs/nlp.venv/lib/python3.12/site-packages (from openai<2.0.0,>=1.86.0->langchain-openai->langchain[openai]) (0.10.0)\n",
      "Requirement already satisfied: tqdm>4 in /home/georg/anaconda3/envs/nlp.venv/lib/python3.12/site-packages (from openai<2.0.0,>=1.86.0->langchain-openai->langchain[openai]) (4.67.1)\n",
      "Requirement already satisfied: regex>=2022.1.18 in /home/georg/anaconda3/envs/nlp.venv/lib/python3.12/site-packages (from tiktoken<1,>=0.7->langchain-openai->langchain[openai]) (2024.11.6)\n",
      "Downloading langchain-0.3.26-py3-none-any.whl (1.0 MB)\n",
      "\u001b[2K   \u001b[90m━━━━━━━━━━━━━━━━━━━━━━━━━━━━━━━━━━━━━━━━\u001b[0m \u001b[32m1.0/1.0 MB\u001b[0m \u001b[31m12.1 MB/s\u001b[0m eta \u001b[36m0:00:00\u001b[0m\n",
      "\u001b[?25hDownloading langchain_core-0.3.66-py3-none-any.whl (438 kB)\n",
      "Installing collected packages: langchain-core, langchain\n",
      "\u001b[2K  Attempting uninstall: langchain-core\n",
      "\u001b[2K    Found existing installation: langchain-core 0.3.65\n",
      "\u001b[2K    Uninstalling langchain-core-0.3.65:\n",
      "\u001b[2K      Successfully uninstalled langchain-core-0.3.65\n",
      "\u001b[2K  Attempting uninstall: langchain━━━━━━━━━━━━━━━\u001b[0m \u001b[32m0/2\u001b[0m [langchain-core]\n",
      "\u001b[2K    Found existing installation: langchain 0.3.25\u001b[32m0/2\u001b[0m [langchain-core]\n",
      "\u001b[2K    Uninstalling langchain-0.3.25:━━━━━━━━━━\u001b[0m \u001b[32m0/2\u001b[0m [langchain-core]\n",
      "\u001b[2K      Successfully uninstalled langchain-0.3.25m \u001b[32m0/2\u001b[0m [langchain-core]\n",
      "\u001b[2K   \u001b[90m━━━━━━━━━━━━━━━━━━━━━━━━━━━━━━━━━━━━━━━━\u001b[0m \u001b[32m2/2\u001b[0m [langchain]/2\u001b[0m [langchain]\n",
      "\u001b[1A\u001b[2KSuccessfully installed langchain-0.3.26 langchain-core-0.3.66\n"
     ]
    }
   ],
   "source": [
    "#pip install -U langgraph langsmith\n",
    "#!pip install -U \"langchain[openai]\"\n"
   ]
  },
  {
   "cell_type": "code",
   "execution_count": null,
   "id": "c4ba94e3",
   "metadata": {},
   "outputs": [],
   "source": [
    "\n",
    "import os\n",
    "import glob\n",
    "from langchain.document_loaders import PyPDFLoader\n",
    "from langchain.text_splitter import CharacterTextSplitter, RecursiveCharacterTextSplitter\n",
    "import warnings\n",
    "warnings.filterwarnings('ignore')"
   ]
  },
  {
   "cell_type": "code",
   "execution_count": null,
   "id": "427f8a59",
   "metadata": {},
   "outputs": [
    {
     "data": {
      "text/plain": [
       "['HSS2016_UnagreementItalian_RSS_fixed.pdf',\n",
       " 'HoehnSilvestriSquillaci2016.pdf',\n",
       " 'Hoehn2011_wroclaw_basqueko.pdf',\n",
       " 'Hoehn2013_langborders_FoI2013_nomov.pdf',\n",
       " 'languagePower_draft.pdf',\n",
       " 'basque_locative_recos.pdf',\n",
       " 'Hoehn2009_rusger_participles_handout.pdf',\n",
       " 'Hoehn2014_console21.pdf',\n",
       " 'handout_unagreement_ISTAL.pdf',\n",
       " 'Hoehn2012_MRes_greekunagreement.pdf',\n",
       " 'Hoehn2012_The-Licensing-of-Adnominal-PPs-The-Case-of-Basque-ko.pdf',\n",
       " 'Hoehn2017_Nonpossessive person in the nominal domain.pdf',\n",
       " 'Hoehn2015_Demonstratives and personal pronouns.pdf',\n",
       " 'Hoehn2014_Semantics of unagreement.pdf',\n",
       " 'hoehn_unagreement_NLLT.pdf',\n",
       " 'Hoehn2018_draft_ElicitNomPers.pdf',\n",
       " 'MGDLT10_Greko and Greek PPs_poster.pdf',\n",
       " '07_Bachelor',\n",
       " '15_Demonstratives+PersonalPron_CWPL',\n",
       " '15_ItalianUnagreement',\n",
       " 'Hoehn2012_The-Licensing-of-Adnominal-PPs-The-Case-of-Basque-ko.pdf',\n",
       " 'HoehnSilvestriSquillaci2017_Greek and Romance unagreement in Calabria.pdf',\n",
       " 'Hoehn2020_The third person gap in adnominal pronoun constructions.pdf',\n",
       " 'Hoehn2016_Unagreement is an illusion_author.pdf',\n",
       " 'Hoehn2014_Basque_locative_Console21.pdf',\n",
       " 'Hoehn2022_Preposition Allomorphy in Calabrian Greek (Greko) and Std Modern Greek and Its Theoretical implications.pdf',\n",
       " 'HoehnSilvestriSquillaci2016_Unagreement between Italian and southern Italian dialects.pdf',\n",
       " 'Hoehn2015_Unagreement is an illusion.pdf',\n",
       " 'Hoehn2021_Towards a consistent annotation of nominal person in UD.pdf',\n",
       " 'Hoehn2015_Demonstratives and personal pronouns.pdf',\n",
       " 'Hoehn2014_Semantics of unagreement.pdf',\n",
       " 'Höhn2014_Semantics of unagreement.pdf',\n",
       " 'Hoehn2024_A word order typology of adnominal person.pdf',\n",
       " 'Hoehn_2018_draft_Eliciting data on (ad)nominal person.pdf',\n",
       " 'HoehnHien2025_Prenominal a and determiners in three MabiaGur languages.pdf']"
      ]
     },
     "execution_count": 10,
     "metadata": {},
     "output_type": "execute_result"
    }
   ],
   "source": [
    "pdf_folders = [\"/home/georg/tools/webbing/morelight-md-version/files/papers\",\n",
    "                \"/home/georg/academia/Produziertes/papers\"\n",
    "]\n",
    "files = [f for folder in pdf_folders for f in os.listdir(folder) if os.path.isfile(f) and f.endswith('.pdf')]\n",
    "files"
   ]
  },
  {
   "cell_type": "code",
   "execution_count": null,
   "id": "33bbc1c3",
   "metadata": {},
   "outputs": [],
   "source": [
    "# identify all pdfs in folder\n",
    "pdf_folders = [\"/home/georg/tools/webbing/morelight-md-version/files/papers\",\n",
    "                \"/home/georg/academia/Produziertes/papers\"\n",
    "]\n",
    "files = [f for folder in pdf_folders for f in os.listdir(folder) if os.path.isfile(f) and f.endswith('.pdf')]\n",
    "\n",
    "\n",
    "# function for loading, splitting and chunking pdfs\n",
    "\n",
    "def load_pdf(path,chunk_size=1000,chunk_overlap=200):\n",
    "    loader = PyPDFLoader(path)\n",
    "    pages = loader.load_and_split()\n",
    "    text_splitter = RecursiveCharacterTextSplitter(\n",
    "        chunk_size=chunk_size,\n",
    "        chunk_overlap=chunk_overlap\n",
    "    )   \n",
    "    chunks = text_splitter.split_documents(pages)"
   ]
  },
  {
   "cell_type": "code",
   "execution_count": 3,
   "id": "5d5676f8",
   "metadata": {},
   "outputs": [
    {
     "name": "stderr",
     "output_type": "stream",
     "text": [
      "Override attn_implementation='sdpa' to 'eager' as use_memory_efficient_attention='true'\n"
     ]
    }
   ],
   "source": [
    "from langchain_huggingface import HuggingFaceEmbeddings\n",
    "# from langchain.embeddings.base import Embeddings\n",
    "\n",
    "# from sentence_transformers import SentenceTransformer\n",
    "\n",
    "\n",
    "# from typing import List\n",
    "\n",
    "# class CustomEmbeddings(Embeddings):\n",
    "#     def __init__(self, model_name: str):\n",
    "#         self.model = SentenceTransformer(model_name)\n",
    "\n",
    "#     def embed_documents(self, documents: List[str]) -> List[List[float]]:\n",
    "#         return [self.model.encode(d).tolist() for d in documents]\n",
    "\n",
    "#     def embed_query(self, query: str) -> List[float]:\n",
    "#         return self.model.encode([query])[0].tolist()\n",
    "    \n",
    "    \n",
    "#embedder = HuggingFaceEmbeddings(model_name=\"Snowflake/snowflake-arctic-embed-m-v2.0\")\n",
    "# embedder=\"Snowflake/snowflake-arctic-embed-m-v2.0\"\n",
    "# embeddingsSN = SentenceTransformer(embedder)\n",
    "\n",
    "import torch\n",
    "from transformers import AutoModel, AutoTokenizer\n",
    "\n",
    "model_name = 'Snowflake/snowflake-arctic-embed-m-v2.0'\n",
    "tokenizer = AutoTokenizer.from_pretrained(model_name)\n",
    "embedder = AutoModel.from_pretrained(model_name, add_pooling_layer=False, trust_remote_code=True)"
   ]
  },
  {
   "cell_type": "code",
   "execution_count": 8,
   "id": "720c9b3c",
   "metadata": {},
   "outputs": [],
   "source": [
    "from typing import Annotated\n",
    "\n",
    "from typing_extensions import TypedDict\n",
    "\n",
    "from langgraph.graph import StateGraph, START\n",
    "from langgraph.graph.message import add_messages\n",
    "\n",
    "\n",
    "class State(TypedDict):\n",
    "    # Messages have the type \"list\". The `add_messages` function\n",
    "    # in the annotation defines how this state key should be updated\n",
    "    # (in this case, it appends messages to the list, rather than overwriting them)\n",
    "    messages: Annotated[list, add_messages]\n",
    "\n",
    "\n",
    "graph_builder = StateGraph(State)"
   ]
  },
  {
   "cell_type": "code",
   "execution_count": 9,
   "id": "84fef9c5",
   "metadata": {},
   "outputs": [],
   "source": [
    "import os\n",
    "from langchain.chat_models import init_chat_model\n",
    "\n",
    "import tiktoken\n",
    "from IPython.display import Markdown, display\n",
    "from  dotenv import load_dotenv\n",
    "import warnings\n",
    "warnings.filterwarnings('ignore')\n",
    "from langchain.tools.tavily_search import TavilySearchResults\n",
    "\n",
    "load_dotenv()\n",
    "\n",
    "llm = init_chat_model(\"openai:gpt-40-mini\")"
   ]
  },
  {
   "cell_type": "code",
   "execution_count": 10,
   "id": "bebcc83c",
   "metadata": {},
   "outputs": [
    {
     "data": {
      "text/plain": [
       "<langgraph.graph.state.StateGraph at 0x7f22b5d63200>"
      ]
     },
     "execution_count": 10,
     "metadata": {},
     "output_type": "execute_result"
    }
   ],
   "source": [
    "def chatbot(state: State):\n",
    "    return {\"messages\": [llm.invoke(state[\"messages\"])]}\n",
    "\n",
    "\n",
    "# The first argument is the unique node name\n",
    "# The second argument is the function or object that will be called whenever\n",
    "# the node is used.\n",
    "graph_builder.add_node(\"chatbot\", chatbot)"
   ]
  },
  {
   "cell_type": "code",
   "execution_count": 11,
   "id": "1b6b3682",
   "metadata": {},
   "outputs": [
    {
     "data": {
      "text/plain": [
       "<langgraph.graph.state.StateGraph at 0x7f22b5d63200>"
      ]
     },
     "execution_count": 11,
     "metadata": {},
     "output_type": "execute_result"
    }
   ],
   "source": [
    "graph_builder.add_edge(START, \"chatbot\")\n"
   ]
  },
  {
   "cell_type": "code",
   "execution_count": 12,
   "id": "7c70d065",
   "metadata": {},
   "outputs": [],
   "source": [
    "graph = graph_builder.compile()\n"
   ]
  },
  {
   "cell_type": "code",
   "execution_count": 13,
   "id": "f2b547d4",
   "metadata": {},
   "outputs": [
    {
     "data": {
      "image/png": "[encoded data removed]",
      "text/plain": [
       "<IPython.core.display.Image object>"
      ]
     },
     "metadata": {},
     "output_type": "display_data"
    }
   ],
   "source": [
    "from IPython.display import Image, display\n",
    "\n",
    "try:\n",
    "    display(Image(graph.get_graph().draw_mermaid_png()))\n",
    "except Exception:\n",
    "    # This requires some extra dependencies and is optional\n",
    "    pass"
   ]
  },
  {
   "cell_type": "code",
   "execution_count": 23,
   "id": "d9f34a62",
   "metadata": {},
   "outputs": [
    {
     "ename": "ModuleNotFoundError",
     "evalue": "No module named 'langchain_tavily'",
     "output_type": "error",
     "traceback": [
      "\u001b[0;31m---------------------------------------------------------------------------\u001b[0m",
      "\u001b[0;31mModuleNotFoundError\u001b[0m                       Traceback (most recent call last)",
      "Cell \u001b[0;32mIn[23], line 1\u001b[0m\n\u001b[0;32m----> 1\u001b[0m \u001b[38;5;28;01mfrom\u001b[39;00m\u001b[38;5;250m \u001b[39m\u001b[38;5;21;01mlangchain_tavily\u001b[39;00m\u001b[38;5;250m \u001b[39m\u001b[38;5;28;01mimport\u001b[39;00m TavilySearch\n\u001b[1;32m      3\u001b[0m tool \u001b[38;5;241m=\u001b[39m TavilySearch(max_results\u001b[38;5;241m=\u001b[39m\u001b[38;5;241m2\u001b[39m)\n\u001b[1;32m      4\u001b[0m tools \u001b[38;5;241m=\u001b[39m [tool]\n",
      "\u001b[0;31mModuleNotFoundError\u001b[0m: No module named 'langchain_tavily'"
     ]
    }
   ],
   "source": [
    "from langchain.tools.tavily_search import TavilySearchResults\n",
    "from langchain.agents import initialize_agent, AgentType, Tool\n",
    "\n",
    "\n",
    "# Safe Tavily wrapper\n",
    "def safe_search(query: str) -> str:\n",
    "    result = tavily_search.run(query)\n",
    "\n",
    "    # Ensure result is a string — Tavily returns dict with 'snippets' sometimes\n",
    "    if isinstance(result, dict):\n",
    "        result_text = result.get(\"content\", \"\") or str(result)\n",
    "    else:\n",
    "        result_text = str(result)\n",
    "\n",
    "    tokens = encoding.encode(result_text)\n",
    "    trimmed = encoding.decode(tokens[:1800])  # leave room for GPT-4 response\n",
    "    return trimmed\n",
    "\n",
    "\n",
    "# LangChain tool\n",
    "tools = [\n",
    "    Tool(name=\"TavilySafeSearch\", func=safe_search, description=\"Web search tool\")]\n",
    "\n",
    "from langgraph.prebuilt import create_react_agent\n",
    "agent = create_react_agent(\n",
    "    llm,\n",
    "    tools=tools,\n",
    ")"
   ]
  },
  {
   "cell_type": "code",
   "execution_count": null,
   "id": "aa08dc5c",
   "metadata": {},
   "outputs": [],
   "source": [
    "from typing import Annotated\n",
    "\n",
    "from typing_extensions import TypedDict\n",
    "\n",
    "from langgraph.graph import StateGraph, START, END\n",
    "from langgraph.graph.message import add_messages\n",
    "\n",
    "class State(TypedDict):\n",
    "    messages: Annotated[list, add_messages]\n",
    "\n",
    "graph_builder = StateGraph(State)\n",
    "\n",
    "# Modification: tell the LLM which tools it can call\n",
    "# highlight-next-line\n",
    "llm_with_tools = llm.bind_tools(tools)\n",
    "\n",
    "def chatbot(state: State):\n",
    "    return {\"messages\": [llm_with_tools.invoke(state[\"messages\"])]}\n",
    "\n",
    "graph_builder.add_node(\"chatbot\", chatbot)"
   ]
  },
  {
   "cell_type": "code",
   "execution_count": null,
   "id": "4d1c7424",
   "metadata": {},
   "outputs": [],
   "source": [
    "def stream_graph_updates(user_input: str):\n",
    "    for event in graph.stream({\"messages\": [{\"role\": \"user\", \"content\": user_input}]}):\n",
    "        for value in event.values():\n",
    "            print(\"Assistant:\", value[\"messages\"][-1].content)\n",
    "\n",
    "\n",
    "while True:\n",
    "    try:\n",
    "        user_input = input(\"User: \")\n",
    "        if user_input.lower() in [\"quit\", \"exit\", \"q\"]:\n",
    "            print(\"Goodbye!\")\n",
    "            break\n",
    "        stream_graph_updates(user_input)\n",
    "    except:\n",
    "        # fallback if input() is not available\n",
    "        user_input = \"What do you know about LangGraph?\"\n",
    "        print(\"User: \" + user_input)\n",
    "        stream_graph_updates(user_input)\n",
    "        break"
   ]
  },
  {
   "cell_type": "code",
   "execution_count": 16,
   "id": "c94ceb4a",
   "metadata": {},
   "outputs": [
    {
     "name": "stdout",
     "output_type": "stream",
     "text": [
      "True\n"
     ]
    }
   ],
   "source": [
    "import torch\n",
    "print(torch.cuda.is_available())  # should be True"
   ]
  }
 ],
 "metadata": {
  "kernelspec": {
   "display_name": "nlp.venv",
   "language": "python",
   "name": "python3"
  },
  "language_info": {
   "codemirror_mode": {
    "name": "ipython",
    "version": 3
   },
   "file_extension": ".py",
   "mimetype": "text/x-python",
   "name": "python",
   "nbconvert_exporter": "python",
   "pygments_lexer": "ipython3",
   "version": "3.12.3"
  }
 },
 "nbformat": 4,
 "nbformat_minor": 5
}
